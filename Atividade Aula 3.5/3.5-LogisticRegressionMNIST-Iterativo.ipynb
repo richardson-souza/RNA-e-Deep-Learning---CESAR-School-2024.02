{
  "cells": [
    {
      "cell_type": "markdown",
      "metadata": {
        "id": "B3td_pl4mvQD"
      },
      "source": [
        "# Regressão Softmax com dados do MNIST"
      ]
    },
    {
      "cell_type": "markdown",
      "metadata": {
        "id": "DtkJT-FtmvQE"
      },
      "source": [
        "## Objetivo"
      ]
    },
    {
      "cell_type": "markdown",
      "metadata": {
        "id": "hF-ByQKJmvQF"
      },
      "source": [
        "O objetivo deste notebook é ilustrar o uso de praticamente a mesma rede desenvolvida para a classificação das flores Íris, porém agora com o problema de classificação de dígitos manuscritos utilizando o dataset MNIST.\n",
        "As principais diferenças são:\n",
        "- tipo do dado, agora imagem com muito atributos: 28 x 28 pixels\n",
        "- número de amostras, muito maior, 60 mil\n",
        "Neste exercício será possível a interpretação do significado dos parâmetros treinados"
      ]
    },
    {
      "cell_type": "markdown",
      "metadata": {
        "id": "HGsYwaRemvQH"
      },
      "source": [
        "## Importação das bibliotecas"
      ]
    },
    {
      "cell_type": "code",
      "execution_count": 1,
      "metadata": {
        "ExecuteTime": {
          "end_time": "2017-11-24T15:44:50.097111",
          "start_time": "2017-11-24T15:44:48.915046"
        },
        "id": "JeBH-PI4mvQI"
      },
      "outputs": [],
      "source": [
        "%matplotlib inline\n",
        "import numpy as np\n",
        "import matplotlib.pyplot as plt\n",
        "import pandas as pd\n",
        "\n",
        "from torch.autograd import Variable\n",
        "import torch\n",
        "import torchvision"
      ]
    },
    {
      "cell_type": "markdown",
      "metadata": {
        "id": "FLEq8nmUmvQL"
      },
      "source": [
        "## Carregamento dos dados do MNIST"
      ]
    },
    {
      "cell_type": "code",
      "execution_count": 2,
      "metadata": {
        "colab": {
          "base_uri": "https://localhost:8080/"
        },
        "id": "5ueXR4zIo5wQ",
        "outputId": "a5022f4c-82d6-4a30-bec4-05c715a073f7"
      },
      "outputs": [
        {
          "name": "stdout",
          "output_type": "stream",
          "text": [
            "Cloning into 'MNIST'...\n"
          ]
        },
        {
          "name": "stdout",
          "output_type": "stream",
          "text": [
            "remote: Enumerating objects: 10, done.\u001b[K\n",
            "remote: Total 10 (delta 0), reused 0 (delta 0), pack-reused 10 (from 1)\u001b[K\n",
            "Receiving objects: 100% (10/10), 11.01 MiB | 8.36 MiB/s, done.\n",
            "Resolving deltas: 100% (2/2), done.\n"
          ]
        }
      ],
      "source": [
        "! git clone https://github.com/vcasadei/MNIST.git"
      ]
    },
    {
      "cell_type": "code",
      "execution_count": 3,
      "metadata": {
        "ExecuteTime": {
          "end_time": "2017-11-24T15:44:50.638218",
          "start_time": "2017-11-24T15:44:50.098808"
        },
        "colab": {
          "base_uri": "https://localhost:8080/"
        },
        "id": "xZWPIWlumvQM",
        "outputId": "42a658a1-9303-40f8-c337-d7751073e207"
      },
      "outputs": [
        {
          "name": "stdout",
          "output_type": "stream",
          "text": [
            "Amostras de treinamento: 60000\n",
            "\n",
            "Dimensões dos dados das imagens:    torch.Size([60000, 28, 28])\n",
            "Valores mínimo e máximo dos pixels: tensor(0, dtype=torch.uint8) tensor(255, dtype=torch.uint8)\n",
            "Tipo dos dados das imagens:         <class 'torch.Tensor'>\n",
            "Tipo das classes das imagens:       <class 'torch.Tensor'>\n"
          ]
        }
      ],
      "source": [
        "dataset_dir = 'MNIST/'\n",
        "\n",
        "x_train, y_train = torch.load(dataset_dir + 'processed/training.pt')\n",
        "\n",
        "print(\"Amostras de treinamento:\", x_train.size(0))\n",
        "\n",
        "print(\"\\nDimensões dos dados das imagens:   \", x_train.size())\n",
        "print(\"Valores mínimo e máximo dos pixels:\", torch.min(x_train), torch.max(x_train))\n",
        "print(\"Tipo dos dados das imagens:        \", type(x_train))\n",
        "print(\"Tipo das classes das imagens:      \", type(y_train))"
      ]
    },
    {
      "cell_type": "markdown",
      "metadata": {
        "id": "uR2L0QQgmvQU"
      },
      "source": [
        "### Carregamento, normalização e seleção dos dados do MNIST\n",
        "\n",
        "Neste exemplo utilizaremos apenas 1000 amostras de treinamento."
      ]
    },
    {
      "cell_type": "code",
      "execution_count": 4,
      "metadata": {
        "ExecuteTime": {
          "end_time": "2017-11-24T15:44:50.895668",
          "start_time": "2017-11-24T15:44:50.640110"
        },
        "colab": {
          "base_uri": "https://localhost:8080/"
        },
        "id": "C9Rh7wRemvQU",
        "outputId": "26460e2c-57e9-437d-eea4-952a48d9d5f2"
      },
      "outputs": [
        {
          "name": "stdout",
          "output_type": "stream",
          "text": [
            "Amostras de treinamento: 1000\n",
            "\n",
            "Dimensões dos dados das imagens:    torch.Size([1000, 28, 28])\n",
            "Valores mínimo e máximo dos pixels: tensor(0.) tensor(1.)\n",
            "Tipo dos dados das imagens:         <class 'torch.Tensor'>\n",
            "Tipo das classes das imagens:       <class 'torch.Tensor'>\n"
          ]
        }
      ],
      "source": [
        "x_train = x_train.float()\n",
        "\n",
        "x_train = x_train / 255.\n",
        "\n",
        "if True:\n",
        "    n_samples_train = 1000\n",
        "\n",
        "    x_train = x_train[:n_samples_train]\n",
        "    y_train = y_train[:n_samples_train]\n",
        "\n",
        "print(\"Amostras de treinamento:\", x_train.size(0))\n",
        "\n",
        "print(\"\\nDimensões dos dados das imagens:   \", x_train.size())\n",
        "print(\"Valores mínimo e máximo dos pixels:\", torch.min(x_train), torch.max(x_train))\n",
        "print(\"Tipo dos dados das imagens:        \", type(x_train))\n",
        "print(\"Tipo das classes das imagens:      \", type(y_train))"
      ]
    },
    {
      "cell_type": "markdown",
      "metadata": {
        "id": "6UtzmsQimvQa"
      },
      "source": [
        "### Visualizando os dados"
      ]
    },
    {
      "cell_type": "code",
      "execution_count": 5,
      "metadata": {
        "ExecuteTime": {
          "end_time": "2017-11-24T16:32:19.474568",
          "start_time": "2017-11-24T16:32:19.207270"
        },
        "colab": {
          "base_uri": "https://localhost:8080/",
          "height": 493
        },
        "id": "gFG0qpODmvQa",
        "outputId": "066ad080-92b4-4170-e5df-5ea022238cf0"
      },
      "outputs": [
        {
          "data": {
            "text/plain": [
              "(np.float64(-0.5), np.float64(232.5), np.float64(87.5), np.float64(-0.5))"
            ]
          },
          "execution_count": 5,
          "metadata": {},
          "output_type": "execute_result"
        },
        {
          "data": {
            "image/png": "[encoded data removed]",
            "text/plain": [
              "<Figure size 1500x1000 with 1 Axes>"
            ]
          },
          "metadata": {},
          "output_type": "display_data"
        }
      ],
      "source": [
        "n_samples = 24\n",
        "\n",
        "# cria um grid com as imagens\n",
        "grid = torchvision.utils.make_grid(x_train[:n_samples].unsqueeze(1), pad_value=1.0, padding=1)\n",
        "\n",
        "plt.figure(figsize=(15, 10))\n",
        "plt.imshow(grid.numpy().transpose(1, 2, 0))\n",
        "plt.axis('off')"
      ]
    },
    {
      "cell_type": "markdown",
      "metadata": {
        "id": "075sVFBZmvQe"
      },
      "source": [
        "### Visualizando uma imagem com o matplotlib"
      ]
    },
    {
      "cell_type": "code",
      "execution_count": 6,
      "metadata": {
        "ExecuteTime": {
          "end_time": "2017-11-24T15:44:51.413232",
          "start_time": "2017-11-24T15:44:51.251376"
        },
        "colab": {
          "base_uri": "https://localhost:8080/",
          "height": 447
        },
        "id": "3W2NpeW0mvQg",
        "outputId": "982d9328-5731-430f-ec21-03bd3b65cd1c"
      },
      "outputs": [
        {
          "name": "stdout",
          "output_type": "stream",
          "text": [
            "class: tensor(5)\n"
          ]
        },
        {
          "data": {
            "image/png": "[encoded data removed]",
            "text/plain": [
              "<Figure size 640x480 with 1 Axes>"
            ]
          },
          "metadata": {},
          "output_type": "display_data"
        }
      ],
      "source": [
        "image  = x_train[0]\n",
        "target = y_train[0]\n",
        "\n",
        "plt.imshow(image.numpy().reshape(28,28), cmap='gray')\n",
        "print('class:', target)"
      ]
    },
    {
      "cell_type": "markdown",
      "metadata": {
        "id": "SU-PzteEmvQj"
      },
      "source": [
        "## Modelo"
      ]
    },
    {
      "cell_type": "code",
      "execution_count": 7,
      "metadata": {
        "ExecuteTime": {
          "end_time": "2017-11-24T15:44:51.419287",
          "start_time": "2017-11-24T15:44:51.415065"
        },
        "id": "VKMngBWzmvQk"
      },
      "outputs": [],
      "source": [
        "model = torch.nn.Linear(28*28, 10) # 28*28 atributos de entrada e 10 neurônios na sáida"
      ]
    },
    {
      "cell_type": "markdown",
      "metadata": {
        "id": "uzvpr1u6mvQo"
      },
      "source": [
        "### Testando um predict com poucas amostras"
      ]
    },
    {
      "cell_type": "code",
      "execution_count": 8,
      "metadata": {
        "id": "KiiO8WDAmvQq"
      },
      "outputs": [],
      "source": [
        "## TODO"
      ]
    },
    {
      "cell_type": "markdown",
      "metadata": {
        "id": "tIIeicyGmvQs"
      },
      "source": [
        "## Treinamento"
      ]
    },
    {
      "cell_type": "markdown",
      "metadata": {
        "id": "tSfqKNW2mvQt"
      },
      "source": [
        "### Inicialização dos parâmetros"
      ]
    },
    {
      "cell_type": "code",
      "execution_count": 9,
      "metadata": {
        "ExecuteTime": {
          "end_time": "2017-11-24T15:44:51.425768",
          "start_time": "2017-11-24T15:44:51.420825"
        },
        "id": "I9W3OFvomvQu"
      },
      "outputs": [],
      "source": [
        "epochs = 5\n",
        "learningRate = 0.5\n",
        "\n",
        "# Utilizaremos CrossEntropyLoss como função de perda\n",
        "criterion = torch.nn.CrossEntropyLoss()\n",
        "\n",
        "# Gradiente descendente\n",
        "optimizer = torch.optim.SGD(model.parameters(), lr=learningRate)"
      ]
    },
    {
      "cell_type": "markdown",
      "metadata": {
        "id": "hlNgV_pgmvQx"
      },
      "source": [
        "### Visualização do grafo computacional da perda (loss)"
      ]
    },
    {
      "cell_type": "code",
      "execution_count": 10,
      "metadata": {
        "colab": {
          "base_uri": "https://localhost:8080/"
        },
        "id": "5ycGDyoWjMoR",
        "outputId": "61a0d6c9-8924-4af3-fff5-c9f5e4f97376"
      },
      "outputs": [
        {
          "name": "stdout",
          "output_type": "stream",
          "text": [
            "Requirement already satisfied: graphviz in /home/rsouza/Projects/pos-graduacao/rnn/RNA-e-Deep-Learning---CESAR-School-2024.02/.venv/lib/python3.13/site-packages (0.20.3)\n",
            "Collecting git+https://github.com/szagoruyko/pytorchviz\n",
            "  Cloning https://github.com/szagoruyko/pytorchviz to /tmp/pip-req-build-6fuuoqgu\n",
            "  Running command git clone --filter=blob:none --quiet https://github.com/szagoruyko/pytorchviz /tmp/pip-req-build-6fuuoqgu\n",
            "  Resolved https://github.com/szagoruyko/pytorchviz to commit 5cf04c13e601366f6b9cf5939b5af5144d55b887\n",
            "  Installing build dependencies ... \u001b[?25ldone\n",
            "\u001b[?25h  Getting requirements to build wheel ... \u001b[?25ldone\n",
            "\u001b[?25h  Preparing metadata (pyproject.toml) ... \u001b[?25ldone\n",
            "\u001b[?25hRequirement already satisfied: torch in /home/rsouza/Projects/pos-graduacao/rnn/RNA-e-Deep-Learning---CESAR-School-2024.02/.venv/lib/python3.13/site-packages (from torchviz==0.0.2) (2.7.0)\n",
            "Requirement already satisfied: graphviz in /home/rsouza/Projects/pos-graduacao/rnn/RNA-e-Deep-Learning---CESAR-School-2024.02/.venv/lib/python3.13/site-packages (from torchviz==0.0.2) (0.20.3)\n",
            "Requirement already satisfied: filelock in /home/rsouza/Projects/pos-graduacao/rnn/RNA-e-Deep-Learning---CESAR-School-2024.02/.venv/lib/python3.13/site-packages (from torch->torchviz==0.0.2) (3.18.0)\n",
            "Requirement already satisfied: typing-extensions>=4.10.0 in /home/rsouza/Projects/pos-graduacao/rnn/RNA-e-Deep-Learning---CESAR-School-2024.02/.venv/lib/python3.13/site-packages (from torch->torchviz==0.0.2) (4.13.2)\n",
            "Requirement already satisfied: setuptools in /home/rsouza/Projects/pos-graduacao/rnn/RNA-e-Deep-Learning---CESAR-School-2024.02/.venv/lib/python3.13/site-packages (from torch->torchviz==0.0.2) (80.2.0)\n",
            "Requirement already satisfied: sympy>=1.13.3 in /home/rsouza/Projects/pos-graduacao/rnn/RNA-e-Deep-Learning---CESAR-School-2024.02/.venv/lib/python3.13/site-packages (from torch->torchviz==0.0.2) (1.14.0)\n",
            "Requirement already satisfied: networkx in /home/rsouza/Projects/pos-graduacao/rnn/RNA-e-Deep-Learning---CESAR-School-2024.02/.venv/lib/python3.13/site-packages (from torch->torchviz==0.0.2) (3.4.2)\n",
            "Requirement already satisfied: jinja2 in /home/rsouza/Projects/pos-graduacao/rnn/RNA-e-Deep-Learning---CESAR-School-2024.02/.venv/lib/python3.13/site-packages (from torch->torchviz==0.0.2) (3.1.6)\n",
            "Requirement already satisfied: fsspec in /home/rsouza/Projects/pos-graduacao/rnn/RNA-e-Deep-Learning---CESAR-School-2024.02/.venv/lib/python3.13/site-packages (from torch->torchviz==0.0.2) (2025.3.2)\n",
            "Requirement already satisfied: nvidia-cuda-nvrtc-cu12==12.6.77 in /home/rsouza/Projects/pos-graduacao/rnn/RNA-e-Deep-Learning---CESAR-School-2024.02/.venv/lib/python3.13/site-packages (from torch->torchviz==0.0.2) (12.6.77)\n",
            "Requirement already satisfied: nvidia-cuda-runtime-cu12==12.6.77 in /home/rsouza/Projects/pos-graduacao/rnn/RNA-e-Deep-Learning---CESAR-School-2024.02/.venv/lib/python3.13/site-packages (from torch->torchviz==0.0.2) (12.6.77)\n",
            "Requirement already satisfied: nvidia-cuda-cupti-cu12==12.6.80 in /home/rsouza/Projects/pos-graduacao/rnn/RNA-e-Deep-Learning---CESAR-School-2024.02/.venv/lib/python3.13/site-packages (from torch->torchviz==0.0.2) (12.6.80)\n",
            "Requirement already satisfied: nvidia-cudnn-cu12==9.5.1.17 in /home/rsouza/Projects/pos-graduacao/rnn/RNA-e-Deep-Learning---CESAR-School-2024.02/.venv/lib/python3.13/site-packages (from torch->torchviz==0.0.2) (9.5.1.17)\n",
            "Requirement already satisfied: nvidia-cublas-cu12==12.6.4.1 in /home/rsouza/Projects/pos-graduacao/rnn/RNA-e-Deep-Learning---CESAR-School-2024.02/.venv/lib/python3.13/site-packages (from torch->torchviz==0.0.2) (12.6.4.1)\n",
            "Requirement already satisfied: nvidia-cufft-cu12==11.3.0.4 in /home/rsouza/Projects/pos-graduacao/rnn/RNA-e-Deep-Learning---CESAR-School-2024.02/.venv/lib/python3.13/site-packages (from torch->torchviz==0.0.2) (11.3.0.4)\n",
            "Requirement already satisfied: nvidia-curand-cu12==10.3.7.77 in /home/rsouza/Projects/pos-graduacao/rnn/RNA-e-Deep-Learning---CESAR-School-2024.02/.venv/lib/python3.13/site-packages (from torch->torchviz==0.0.2) (10.3.7.77)\n",
            "Requirement already satisfied: nvidia-cusolver-cu12==11.7.1.2 in /home/rsouza/Projects/pos-graduacao/rnn/RNA-e-Deep-Learning---CESAR-School-2024.02/.venv/lib/python3.13/site-packages (from torch->torchviz==0.0.2) (11.7.1.2)\n",
            "Requirement already satisfied: nvidia-cusparse-cu12==12.5.4.2 in /home/rsouza/Projects/pos-graduacao/rnn/RNA-e-Deep-Learning---CESAR-School-2024.02/.venv/lib/python3.13/site-packages (from torch->torchviz==0.0.2) (12.5.4.2)\n",
            "Requirement already satisfied: nvidia-cusparselt-cu12==0.6.3 in /home/rsouza/Projects/pos-graduacao/rnn/RNA-e-Deep-Learning---CESAR-School-2024.02/.venv/lib/python3.13/site-packages (from torch->torchviz==0.0.2) (0.6.3)\n",
            "Requirement already satisfied: nvidia-nccl-cu12==2.26.2 in /home/rsouza/Projects/pos-graduacao/rnn/RNA-e-Deep-Learning---CESAR-School-2024.02/.venv/lib/python3.13/site-packages (from torch->torchviz==0.0.2) (2.26.2)\n",
            "Requirement already satisfied: nvidia-nvtx-cu12==12.6.77 in /home/rsouza/Projects/pos-graduacao/rnn/RNA-e-Deep-Learning---CESAR-School-2024.02/.venv/lib/python3.13/site-packages (from torch->torchviz==0.0.2) (12.6.77)\n",
            "Requirement already satisfied: nvidia-nvjitlink-cu12==12.6.85 in /home/rsouza/Projects/pos-graduacao/rnn/RNA-e-Deep-Learning---CESAR-School-2024.02/.venv/lib/python3.13/site-packages (from torch->torchviz==0.0.2) (12.6.85)\n",
            "Requirement already satisfied: nvidia-cufile-cu12==1.11.1.6 in /home/rsouza/Projects/pos-graduacao/rnn/RNA-e-Deep-Learning---CESAR-School-2024.02/.venv/lib/python3.13/site-packages (from torch->torchviz==0.0.2) (1.11.1.6)\n",
            "Requirement already satisfied: triton==3.3.0 in /home/rsouza/Projects/pos-graduacao/rnn/RNA-e-Deep-Learning---CESAR-School-2024.02/.venv/lib/python3.13/site-packages (from torch->torchviz==0.0.2) (3.3.0)\n",
            "Requirement already satisfied: mpmath<1.4,>=1.1.0 in /home/rsouza/Projects/pos-graduacao/rnn/RNA-e-Deep-Learning---CESAR-School-2024.02/.venv/lib/python3.13/site-packages (from sympy>=1.13.3->torch->torchviz==0.0.2) (1.3.0)\n",
            "Requirement already satisfied: MarkupSafe>=2.0 in /home/rsouza/Projects/pos-graduacao/rnn/RNA-e-Deep-Learning---CESAR-School-2024.02/.venv/lib/python3.13/site-packages (from jinja2->torch->torchviz==0.0.2) (3.0.2)\n"
          ]
        }
      ],
      "source": [
        "! pip install graphviz\n",
        "! pip install git+https://github.com/szagoruyko/pytorchviz"
      ]
    },
    {
      "cell_type": "code",
      "execution_count": 11,
      "metadata": {
        "ExecuteTime": {
          "end_time": "2017-11-24T16:28:18.101867",
          "start_time": "2017-11-24T16:28:18.062312"
        },
        "colab": {
          "base_uri": "https://localhost:8080/",
          "height": 543
        },
        "id": "oYPRIePImvQz",
        "outputId": "3087e0ce-5876-4b15-9909-619428e6b889"
      },
      "outputs": [
        {
          "data": {
            "image/svg+xml": [
              "<?xml version=\"1.0\" encoding=\"UTF-8\" standalone=\"no\"?>\n",
              "<!DOCTYPE svg PUBLIC \"-//W3C//DTD SVG 1.1//EN\"\n",
              " \"http://www.w3.org/Graphics/SVG/1.1/DTD/svg11.dtd\">\n",
              "<!-- Generated by graphviz version 2.42.4 (0)\n",
              " -->\n",
              "<!-- Pages: 1 -->\n",
              "<svg width=\"216pt\" height=\"391pt\"\n",
              " viewBox=\"0.00 0.00 216.00 391.00\" xmlns=\"http://www.w3.org/2000/svg\" xmlns:xlink=\"http://www.w3.org/1999/xlink\">\n",
              "<g id=\"graph0\" class=\"graph\" transform=\"scale(1 1) rotate(0) translate(4 387)\">\n",
              "<polygon fill=\"white\" stroke=\"transparent\" points=\"-4,4 -4,-387 212,-387 212,4 -4,4\"/>\n",
              "<!-- 132921270362640 -->\n",
              "<g id=\"node1\" class=\"node\">\n",
              "<title>132921270362640</title>\n",
              "<polygon fill=\"#caff70\" stroke=\"black\" points=\"130.5,-31 76.5,-31 76.5,0 130.5,0 130.5,-31\"/>\n",
              "<text text-anchor=\"middle\" x=\"103.5\" y=\"-7\" font-family=\"monospace\" font-size=\"10.00\"> ()</text>\n",
              "</g>\n",
              "<!-- 132917024470064 -->\n",
              "<g id=\"node2\" class=\"node\">\n",
              "<title>132917024470064</title>\n",
              "<polygon fill=\"lightgrey\" stroke=\"black\" points=\"160,-86 47,-86 47,-67 160,-67 160,-86\"/>\n",
              "<text text-anchor=\"middle\" x=\"103.5\" y=\"-74\" font-family=\"monospace\" font-size=\"10.00\">NllLossBackward0</text>\n",
              "</g>\n",
              "<!-- 132917024470064&#45;&gt;132921270362640 -->\n",
              "<g id=\"edge8\" class=\"edge\">\n",
              "<title>132917024470064&#45;&gt;132921270362640</title>\n",
              "<path fill=\"none\" stroke=\"black\" d=\"M103.5,-66.79C103.5,-60.07 103.5,-50.4 103.5,-41.34\"/>\n",
              "<polygon fill=\"black\" stroke=\"black\" points=\"107,-41.19 103.5,-31.19 100,-41.19 107,-41.19\"/>\n",
              "</g>\n",
              "<!-- 132921270521472 -->\n",
              "<g id=\"node3\" class=\"node\">\n",
              "<title>132921270521472</title>\n",
              "<polygon fill=\"lightgrey\" stroke=\"black\" points=\"169,-141 38,-141 38,-122 169,-122 169,-141\"/>\n",
              "<text text-anchor=\"middle\" x=\"103.5\" y=\"-129\" font-family=\"monospace\" font-size=\"10.00\">LogSoftmaxBackward0</text>\n",
              "</g>\n",
              "<!-- 132921270521472&#45;&gt;132917024470064 -->\n",
              "<g id=\"edge1\" class=\"edge\">\n",
              "<title>132921270521472&#45;&gt;132917024470064</title>\n",
              "<path fill=\"none\" stroke=\"black\" d=\"M103.5,-121.75C103.5,-114.8 103.5,-104.85 103.5,-96.13\"/>\n",
              "<polygon fill=\"black\" stroke=\"black\" points=\"107,-96.09 103.5,-86.09 100,-96.09 107,-96.09\"/>\n",
              "</g>\n",
              "<!-- 132921270333840 -->\n",
              "<g id=\"node4\" class=\"node\">\n",
              "<title>132921270333840</title>\n",
              "<polygon fill=\"lightgrey\" stroke=\"black\" points=\"154,-196 53,-196 53,-177 154,-177 154,-196\"/>\n",
              "<text text-anchor=\"middle\" x=\"103.5\" y=\"-184\" font-family=\"monospace\" font-size=\"10.00\">AddmmBackward0</text>\n",
              "</g>\n",
              "<!-- 132921270333840&#45;&gt;132921270521472 -->\n",
              "<g id=\"edge2\" class=\"edge\">\n",
              "<title>132921270333840&#45;&gt;132921270521472</title>\n",
              "<path fill=\"none\" stroke=\"black\" d=\"M103.5,-176.75C103.5,-169.8 103.5,-159.85 103.5,-151.13\"/>\n",
              "<polygon fill=\"black\" stroke=\"black\" points=\"107,-151.09 103.5,-141.09 100,-151.09 107,-151.09\"/>\n",
              "</g>\n",
              "<!-- 132921266942736 -->\n",
              "<g id=\"node5\" class=\"node\">\n",
              "<title>132921266942736</title>\n",
              "<polygon fill=\"lightgrey\" stroke=\"black\" points=\"101,-251 0,-251 0,-232 101,-232 101,-251\"/>\n",
              "<text text-anchor=\"middle\" x=\"50.5\" y=\"-239\" font-family=\"monospace\" font-size=\"10.00\">AccumulateGrad</text>\n",
              "</g>\n",
              "<!-- 132921266942736&#45;&gt;132921270333840 -->\n",
              "<g id=\"edge3\" class=\"edge\">\n",
              "<title>132921266942736&#45;&gt;132921270333840</title>\n",
              "<path fill=\"none\" stroke=\"black\" d=\"M59.25,-231.75C66.97,-224.03 78.4,-212.6 87.72,-203.28\"/>\n",
              "<polygon fill=\"black\" stroke=\"black\" points=\"90.31,-205.64 94.91,-196.09 85.36,-200.69 90.31,-205.64\"/>\n",
              "</g>\n",
              "<!-- 132921270358560 -->\n",
              "<g id=\"node6\" class=\"node\">\n",
              "<title>132921270358560</title>\n",
              "<polygon fill=\"lightblue\" stroke=\"black\" points=\"77.5,-317 23.5,-317 23.5,-287 77.5,-287 77.5,-317\"/>\n",
              "<text text-anchor=\"middle\" x=\"50.5\" y=\"-305\" font-family=\"monospace\" font-size=\"10.00\">bias</text>\n",
              "<text text-anchor=\"middle\" x=\"50.5\" y=\"-294\" font-family=\"monospace\" font-size=\"10.00\"> (10)</text>\n",
              "</g>\n",
              "<!-- 132921270358560&#45;&gt;132921266942736 -->\n",
              "<g id=\"edge4\" class=\"edge\">\n",
              "<title>132921270358560&#45;&gt;132921266942736</title>\n",
              "<path fill=\"none\" stroke=\"black\" d=\"M50.5,-286.84C50.5,-279.21 50.5,-269.7 50.5,-261.45\"/>\n",
              "<polygon fill=\"black\" stroke=\"black\" points=\"54,-261.27 50.5,-251.27 47,-261.27 54,-261.27\"/>\n",
              "</g>\n",
              "<!-- 132921266942640 -->\n",
              "<g id=\"node7\" class=\"node\">\n",
              "<title>132921266942640</title>\n",
              "<polygon fill=\"lightgrey\" stroke=\"black\" points=\"196,-251 119,-251 119,-232 196,-232 196,-251\"/>\n",
              "<text text-anchor=\"middle\" x=\"157.5\" y=\"-239\" font-family=\"monospace\" font-size=\"10.00\">TBackward0</text>\n",
              "</g>\n",
              "<!-- 132921266942640&#45;&gt;132921270333840 -->\n",
              "<g id=\"edge5\" class=\"edge\">\n",
              "<title>132921266942640&#45;&gt;132921270333840</title>\n",
              "<path fill=\"none\" stroke=\"black\" d=\"M148.58,-231.75C140.72,-224.03 129.07,-212.6 119.58,-203.28\"/>\n",
              "<polygon fill=\"black\" stroke=\"black\" points=\"121.84,-200.6 112.25,-196.09 116.94,-205.59 121.84,-200.6\"/>\n",
              "</g>\n",
              "<!-- 132917031441488 -->\n",
              "<g id=\"node8\" class=\"node\">\n",
              "<title>132917031441488</title>\n",
              "<polygon fill=\"lightgrey\" stroke=\"black\" points=\"208,-311.5 107,-311.5 107,-292.5 208,-292.5 208,-311.5\"/>\n",
              "<text text-anchor=\"middle\" x=\"157.5\" y=\"-299.5\" font-family=\"monospace\" font-size=\"10.00\">AccumulateGrad</text>\n",
              "</g>\n",
              "<!-- 132917031441488&#45;&gt;132921266942640 -->\n",
              "<g id=\"edge6\" class=\"edge\">\n",
              "<title>132917031441488&#45;&gt;132921266942640</title>\n",
              "<path fill=\"none\" stroke=\"black\" d=\"M157.5,-292.37C157.5,-284.25 157.5,-271.81 157.5,-261.39\"/>\n",
              "<polygon fill=\"black\" stroke=\"black\" points=\"161,-261.17 157.5,-251.17 154,-261.17 161,-261.17\"/>\n",
              "</g>\n",
              "<!-- 132917026455408 -->\n",
              "<g id=\"node9\" class=\"node\">\n",
              "<title>132917026455408</title>\n",
              "<polygon fill=\"lightblue\" stroke=\"black\" points=\"196,-383 119,-383 119,-353 196,-353 196,-383\"/>\n",
              "<text text-anchor=\"middle\" x=\"157.5\" y=\"-371\" font-family=\"monospace\" font-size=\"10.00\">weight</text>\n",
              "<text text-anchor=\"middle\" x=\"157.5\" y=\"-360\" font-family=\"monospace\" font-size=\"10.00\"> (10, 784)</text>\n",
              "</g>\n",
              "<!-- 132917026455408&#45;&gt;132917031441488 -->\n",
              "<g id=\"edge7\" class=\"edge\">\n",
              "<title>132917026455408&#45;&gt;132917031441488</title>\n",
              "<path fill=\"none\" stroke=\"black\" d=\"M157.5,-352.8C157.5,-343.7 157.5,-331.79 157.5,-321.9\"/>\n",
              "<polygon fill=\"black\" stroke=\"black\" points=\"161,-321.84 157.5,-311.84 154,-321.84 161,-321.84\"/>\n",
              "</g>\n",
              "</g>\n",
              "</svg>\n"
            ],
            "text/plain": [
              "<graphviz.graphs.Digraph at 0x78e3280478c0>"
            ]
          },
          "execution_count": 11,
          "metadata": {},
          "output_type": "execute_result"
        }
      ],
      "source": [
        "y_pred = model(Variable(x_train.view(-1,28*28)))\n",
        "loss = criterion(y_pred, Variable(y_train))\n",
        "from torchviz import make_dot, make_dot_from_trace\n",
        "p = make_dot(loss, dict(model.named_parameters()))\n",
        "p"
      ]
    },
    {
      "cell_type": "markdown",
      "metadata": {
        "id": "Pq2yq8qAmvQ2"
      },
      "source": [
        "### Laço de treinamento dos pesos"
      ]
    },
    {
      "cell_type": "code",
      "execution_count": 12,
      "metadata": {
        "ExecuteTime": {
          "end_time": "2017-11-24T15:44:51.678678",
          "start_time": "2017-11-24T15:44:51.427695"
        },
        "colab": {
          "base_uri": "https://localhost:8080/",
          "height": 34
        },
        "id": "HPUUNKXxmvQ3",
        "outputId": "36b6aef3-0ece-4220-a654-c35b6e521002"
      },
      "outputs": [
        {
          "data": {
            "text/plain": [
              "<Figure size 1800x600 with 0 Axes>"
            ]
          },
          "metadata": {},
          "output_type": "display_data"
        }
      ],
      "source": [
        "from IPython import display\n",
        "import numpy\n",
        "a = 5\n",
        "losses = []\n",
        "zs = []\n",
        "fig = plt.figure(figsize=(18, 6))\n",
        "\n",
        "try:\n",
        "    for i in range(epochs):\n",
        "        # Transforma a entrada para uma dimensão\n",
        "        inputs = Variable(x_train.view(-1, 28 * 28))\n",
        "        # Predict da rede\n",
        "        outputs = model(inputs)\n",
        "        zs.append(outputs[1].detach().numpy())\n",
        "\n",
        "        # calcula a perda\n",
        "        loss = criterion(outputs, Variable(y_train))\n",
        "\n",
        "        # zero, backpropagation, ajusta parâmetros pelo gradiente descendente\n",
        "        optimizer.zero_grad()\n",
        "        loss.backward()\n",
        "        optimizer.step()\n",
        "\n",
        "        losses.append(loss.data)\n",
        "        _, predicts = torch.max(outputs, 1)\n",
        "\n",
        "        y_pred = predicts.data\n",
        "        accuracy = (y_pred.numpy() == y_train.numpy()).mean()\n",
        "\n",
        "except KeyboardInterrupt:\n",
        "    pass"
      ]
    },
    {
      "cell_type": "code",
      "execution_count": 13,
      "metadata": {
        "colab": {
          "base_uri": "https://localhost:8080/"
        },
        "id": "8wbN-_fnmvQ7",
        "outputId": "c5846267-b88e-4cdc-8303-f10e48176e8a"
      },
      "outputs": [
        {
          "data": {
            "text/plain": [
              "tensor([[0., 0., 0.,  ..., 0., 0., 0.],\n",
              "        [0., 0., 0.,  ..., 0., 0., 0.],\n",
              "        [0., 0., 0.,  ..., 0., 0., 0.],\n",
              "        ...,\n",
              "        [0., 0., 0.,  ..., 0., 0., 0.],\n",
              "        [0., 0., 0.,  ..., 0., 0., 0.],\n",
              "        [0., 0., 0.,  ..., 0., 0., 0.]])"
            ]
          },
          "execution_count": 13,
          "metadata": {},
          "output_type": "execute_result"
        }
      ],
      "source": [
        "model.weight.grad"
      ]
    },
    {
      "cell_type": "code",
      "execution_count": 14,
      "metadata": {
        "ExecuteTime": {
          "end_time": "2017-11-24T15:44:51.685301",
          "start_time": "2017-11-24T15:44:51.680419"
        },
        "colab": {
          "base_uri": "https://localhost:8080/"
        },
        "id": "mPWKRc_gmvRH",
        "outputId": "7bb7038b-8222-45a0-a45b-748d2fd77e85"
      },
      "outputs": [
        {
          "name": "stdout",
          "output_type": "stream",
          "text": [
            "Final loss: tensor(1.0910)\n"
          ]
        }
      ],
      "source": [
        "print('Final loss:', loss.data)"
      ]
    },
    {
      "cell_type": "markdown",
      "metadata": {
        "id": "PWIjRdCJmvRQ"
      },
      "source": [
        "### Visualizando gráfico de perda durante o treinamento"
      ]
    },
    {
      "cell_type": "code",
      "execution_count": 15,
      "metadata": {
        "ExecuteTime": {
          "end_time": "2017-11-24T15:44:56.787741",
          "start_time": "2017-11-24T15:44:56.627754"
        },
        "colab": {
          "base_uri": "https://localhost:8080/",
          "height": 447
        },
        "id": "gwV8aFcbmvRR",
        "outputId": "4758427a-9027-4ad3-a398-21f3699ee59b"
      },
      "outputs": [
        {
          "data": {
            "text/plain": [
              "[<matplotlib.lines.Line2D at 0x78e424ed1d10>]"
            ]
          },
          "execution_count": 15,
          "metadata": {},
          "output_type": "execute_result"
        },
        {
          "data": {
            "image/png": "[encoded data removed]",
            "text/plain": [
              "<Figure size 640x480 with 1 Axes>"
            ]
          },
          "metadata": {},
          "output_type": "display_data"
        }
      ],
      "source": [
        "plt.plot(losses)"
      ]
    },
    {
      "cell_type": "markdown",
      "metadata": {
        "id": "H8og76PRmvRW"
      },
      "source": [
        "## Avaliação"
      ]
    },
    {
      "cell_type": "markdown",
      "metadata": {
        "id": "tIe0ngxWmvRY"
      },
      "source": [
        "### Acurácia tanto no conjunto de treinamento como no conjunto de testes"
      ]
    },
    {
      "cell_type": "code",
      "execution_count": 16,
      "metadata": {
        "ExecuteTime": {
          "end_time": "2017-11-24T15:50:29.922115",
          "start_time": "2017-11-24T15:50:29.914004"
        },
        "colab": {
          "base_uri": "https://localhost:8080/"
        },
        "id": "tlL-lfF5mvRZ",
        "outputId": "2a504475-a9a4-4611-dbed-6be9bc00cdc1"
      },
      "outputs": [
        {
          "name": "stdout",
          "output_type": "stream",
          "text": [
            "Accuracy: 0.819\n"
          ]
        }
      ],
      "source": [
        "def predict(model, input_data):\n",
        "    outputs = model(Variable(input_data))\n",
        "    _, predicts = torch.max(outputs, 1)\n",
        "\n",
        "    return predicts.data\n",
        "\n",
        "y_pred = predict(model, x_train.view(-1, 28*28))\n",
        "accuracy = (y_pred.numpy() == y_train.numpy()).mean()\n",
        "print('Accuracy:', accuracy)"
      ]
    },
    {
      "cell_type": "markdown",
      "metadata": {
        "id": "CvWz9qeDmvRc"
      },
      "source": [
        "### Matriz de confusão com dados de treinamento e teste"
      ]
    },
    {
      "cell_type": "code",
      "execution_count": 17,
      "metadata": {
        "ExecuteTime": {
          "end_time": "2017-11-24T15:51:40.706177",
          "start_time": "2017-11-24T15:51:40.679474"
        },
        "colab": {
          "base_uri": "https://localhost:8080/",
          "height": 411
        },
        "id": "CqNe40IqmvRd",
        "outputId": "93d3a1a5-cdb7-4d60-8438-ed2d0c54e7f3"
      },
      "outputs": [
        {
          "name": "stdout",
          "output_type": "stream",
          "text": [
            "Matriz de confusão:\n"
          ]
        },
        {
          "data": {
            "application/vnd.microsoft.datawrangler.viewer.v0+json": {
              "columns": [
                {
                  "name": "row_0",
                  "rawType": "int64",
                  "type": "integer"
                },
                {
                  "name": "0",
                  "rawType": "int64",
                  "type": "integer"
                },
                {
                  "name": "1",
                  "rawType": "int64",
                  "type": "integer"
                },
                {
                  "name": "2",
                  "rawType": "int64",
                  "type": "integer"
                },
                {
                  "name": "3",
                  "rawType": "int64",
                  "type": "integer"
                },
                {
                  "name": "4",
                  "rawType": "int64",
                  "type": "integer"
                },
                {
                  "name": "5",
                  "rawType": "int64",
                  "type": "integer"
                },
                {
                  "name": "6",
                  "rawType": "int64",
                  "type": "integer"
                },
                {
                  "name": "7",
                  "rawType": "int64",
                  "type": "integer"
                },
                {
                  "name": "8",
                  "rawType": "int64",
                  "type": "integer"
                },
                {
                  "name": "9",
                  "rawType": "int64",
                  "type": "integer"
                }
              ],
              "conversionMethod": "pd.DataFrame",
              "ref": "d8c95527-b26b-4694-b944-af793dd4b782",
              "rows": [
                [
                  "0",
                  "93",
                  "0",
                  "3",
                  "1",
                  "0",
                  "5",
                  "2",
                  "2",
                  "0",
                  "2"
                ],
                [
                  "1",
                  "0",
                  "110",
                  "10",
                  "1",
                  "3",
                  "2",
                  "2",
                  "6",
                  "7",
                  "3"
                ],
                [
                  "2",
                  "2",
                  "0",
                  "77",
                  "2",
                  "1",
                  "5",
                  "4",
                  "1",
                  "4",
                  "1"
                ],
                [
                  "3",
                  "0",
                  "1",
                  "0",
                  "79",
                  "0",
                  "13",
                  "0",
                  "0",
                  "7",
                  "1"
                ],
                [
                  "4",
                  "0",
                  "0",
                  "2",
                  "0",
                  "88",
                  "6",
                  "3",
                  "1",
                  "0",
                  "6"
                ],
                [
                  "5",
                  "0",
                  "1",
                  "0",
                  "1",
                  "0",
                  "52",
                  "0",
                  "0",
                  "3",
                  "2"
                ],
                [
                  "6",
                  "2",
                  "1",
                  "1",
                  "1",
                  "3",
                  "3",
                  "81",
                  "0",
                  "1",
                  "1"
                ],
                [
                  "7",
                  "0",
                  "1",
                  "4",
                  "4",
                  "1",
                  "1",
                  "0",
                  "104",
                  "0",
                  "11"
                ],
                [
                  "8",
                  "0",
                  "2",
                  "1",
                  "2",
                  "0",
                  "2",
                  "2",
                  "0",
                  "62",
                  "0"
                ],
                [
                  "9",
                  "0",
                  "0",
                  "1",
                  "2",
                  "9",
                  "3",
                  "0",
                  "3",
                  "3",
                  "73"
                ]
              ],
              "shape": {
                "columns": 10,
                "rows": 10
              }
            },
            "text/html": [
              "<div>\n",
              "<style scoped>\n",
              "    .dataframe tbody tr th:only-of-type {\n",
              "        vertical-align: middle;\n",
              "    }\n",
              "\n",
              "    .dataframe tbody tr th {\n",
              "        vertical-align: top;\n",
              "    }\n",
              "\n",
              "    .dataframe thead th {\n",
              "        text-align: right;\n",
              "    }\n",
              "</style>\n",
              "<table border=\"1\" class=\"dataframe\">\n",
              "  <thead>\n",
              "    <tr style=\"text-align: right;\">\n",
              "      <th>col_0</th>\n",
              "      <th>0</th>\n",
              "      <th>1</th>\n",
              "      <th>2</th>\n",
              "      <th>3</th>\n",
              "      <th>4</th>\n",
              "      <th>5</th>\n",
              "      <th>6</th>\n",
              "      <th>7</th>\n",
              "      <th>8</th>\n",
              "      <th>9</th>\n",
              "    </tr>\n",
              "    <tr>\n",
              "      <th>row_0</th>\n",
              "      <th></th>\n",
              "      <th></th>\n",
              "      <th></th>\n",
              "      <th></th>\n",
              "      <th></th>\n",
              "      <th></th>\n",
              "      <th></th>\n",
              "      <th></th>\n",
              "      <th></th>\n",
              "      <th></th>\n",
              "    </tr>\n",
              "  </thead>\n",
              "  <tbody>\n",
              "    <tr>\n",
              "      <th>0</th>\n",
              "      <td>93</td>\n",
              "      <td>0</td>\n",
              "      <td>3</td>\n",
              "      <td>1</td>\n",
              "      <td>0</td>\n",
              "      <td>5</td>\n",
              "      <td>2</td>\n",
              "      <td>2</td>\n",
              "      <td>0</td>\n",
              "      <td>2</td>\n",
              "    </tr>\n",
              "    <tr>\n",
              "      <th>1</th>\n",
              "      <td>0</td>\n",
              "      <td>110</td>\n",
              "      <td>10</td>\n",
              "      <td>1</td>\n",
              "      <td>3</td>\n",
              "      <td>2</td>\n",
              "      <td>2</td>\n",
              "      <td>6</td>\n",
              "      <td>7</td>\n",
              "      <td>3</td>\n",
              "    </tr>\n",
              "    <tr>\n",
              "      <th>2</th>\n",
              "      <td>2</td>\n",
              "      <td>0</td>\n",
              "      <td>77</td>\n",
              "      <td>2</td>\n",
              "      <td>1</td>\n",
              "      <td>5</td>\n",
              "      <td>4</td>\n",
              "      <td>1</td>\n",
              "      <td>4</td>\n",
              "      <td>1</td>\n",
              "    </tr>\n",
              "    <tr>\n",
              "      <th>3</th>\n",
              "      <td>0</td>\n",
              "      <td>1</td>\n",
              "      <td>0</td>\n",
              "      <td>79</td>\n",
              "      <td>0</td>\n",
              "      <td>13</td>\n",
              "      <td>0</td>\n",
              "      <td>0</td>\n",
              "      <td>7</td>\n",
              "      <td>1</td>\n",
              "    </tr>\n",
              "    <tr>\n",
              "      <th>4</th>\n",
              "      <td>0</td>\n",
              "      <td>0</td>\n",
              "      <td>2</td>\n",
              "      <td>0</td>\n",
              "      <td>88</td>\n",
              "      <td>6</td>\n",
              "      <td>3</td>\n",
              "      <td>1</td>\n",
              "      <td>0</td>\n",
              "      <td>6</td>\n",
              "    </tr>\n",
              "    <tr>\n",
              "      <th>5</th>\n",
              "      <td>0</td>\n",
              "      <td>1</td>\n",
              "      <td>0</td>\n",
              "      <td>1</td>\n",
              "      <td>0</td>\n",
              "      <td>52</td>\n",
              "      <td>0</td>\n",
              "      <td>0</td>\n",
              "      <td>3</td>\n",
              "      <td>2</td>\n",
              "    </tr>\n",
              "    <tr>\n",
              "      <th>6</th>\n",
              "      <td>2</td>\n",
              "      <td>1</td>\n",
              "      <td>1</td>\n",
              "      <td>1</td>\n",
              "      <td>3</td>\n",
              "      <td>3</td>\n",
              "      <td>81</td>\n",
              "      <td>0</td>\n",
              "      <td>1</td>\n",
              "      <td>1</td>\n",
              "    </tr>\n",
              "    <tr>\n",
              "      <th>7</th>\n",
              "      <td>0</td>\n",
              "      <td>1</td>\n",
              "      <td>4</td>\n",
              "      <td>4</td>\n",
              "      <td>1</td>\n",
              "      <td>1</td>\n",
              "      <td>0</td>\n",
              "      <td>104</td>\n",
              "      <td>0</td>\n",
              "      <td>11</td>\n",
              "    </tr>\n",
              "    <tr>\n",
              "      <th>8</th>\n",
              "      <td>0</td>\n",
              "      <td>2</td>\n",
              "      <td>1</td>\n",
              "      <td>2</td>\n",
              "      <td>0</td>\n",
              "      <td>2</td>\n",
              "      <td>2</td>\n",
              "      <td>0</td>\n",
              "      <td>62</td>\n",
              "      <td>0</td>\n",
              "    </tr>\n",
              "    <tr>\n",
              "      <th>9</th>\n",
              "      <td>0</td>\n",
              "      <td>0</td>\n",
              "      <td>1</td>\n",
              "      <td>2</td>\n",
              "      <td>9</td>\n",
              "      <td>3</td>\n",
              "      <td>0</td>\n",
              "      <td>3</td>\n",
              "      <td>3</td>\n",
              "      <td>73</td>\n",
              "    </tr>\n",
              "  </tbody>\n",
              "</table>\n",
              "</div>"
            ],
            "text/plain": [
              "col_0   0    1   2   3   4   5   6    7   8   9\n",
              "row_0                                          \n",
              "0      93    0   3   1   0   5   2    2   0   2\n",
              "1       0  110  10   1   3   2   2    6   7   3\n",
              "2       2    0  77   2   1   5   4    1   4   1\n",
              "3       0    1   0  79   0  13   0    0   7   1\n",
              "4       0    0   2   0  88   6   3    1   0   6\n",
              "5       0    1   0   1   0  52   0    0   3   2\n",
              "6       2    1   1   1   3   3  81    0   1   1\n",
              "7       0    1   4   4   1   1   0  104   0  11\n",
              "8       0    2   1   2   0   2   2    0  62   0\n",
              "9       0    0   1   2   9   3   0    3   3  73"
            ]
          },
          "execution_count": 17,
          "metadata": {},
          "output_type": "execute_result"
        }
      ],
      "source": [
        "print('Matriz de confusão:')\n",
        "pd.crosstab(y_pred.numpy(), y_train.numpy())"
      ]
    },
    {
      "cell_type": "markdown",
      "metadata": {
        "id": "RLjDGqb7mvRi"
      },
      "source": [
        "## Visualizando a matriz de pesos treinados"
      ]
    },
    {
      "cell_type": "markdown",
      "metadata": {
        "id": "AYuIu31KmvRj"
      },
      "source": [
        "Observe que a matriz de peso treinado para cada classe mostra a importância dos pesos associados aos caracteres de cada classe."
      ]
    },
    {
      "cell_type": "code",
      "execution_count": 18,
      "metadata": {
        "ExecuteTime": {
          "end_time": "2017-11-24T16:34:49.367135",
          "start_time": "2017-11-24T16:34:49.204452"
        },
        "colab": {
          "base_uri": "https://localhost:8080/",
          "height": 465
        },
        "id": "_QESuAB8mvRk",
        "outputId": "33f22ec5-adeb-473e-da12-9519a18c884a"
      },
      "outputs": [
        {
          "name": "stdout",
          "output_type": "stream",
          "text": [
            "weights: torch.Size([10, 784])\n",
            "bias:    torch.Size([10])\n"
          ]
        },
        {
          "data": {
            "image/png": "[encoded data removed]",
            "text/plain": [
              "<Figure size 640x480 with 1 Axes>"
            ]
          },
          "metadata": {},
          "output_type": "display_data"
        }
      ],
      "source": [
        "weights = model.state_dict()['weight']\n",
        "print('weights:', weights.shape)\n",
        "\n",
        "bias = model.state_dict()['bias']\n",
        "print('bias:   ', bias.shape)\n",
        "\n",
        "# Visualizando pesos da classe 3\n",
        "plt.imshow(weights[3, :].numpy().reshape((28,28)),cmap = 'gray')\n",
        "plt.show()"
      ]
    },
    {
      "cell_type": "markdown",
      "metadata": {
        "id": "eE1B62KamvRp"
      },
      "source": [
        "### Visualizando os pesos de todas as classes"
      ]
    },
    {
      "cell_type": "code",
      "execution_count": 19,
      "metadata": {
        "ExecuteTime": {
          "end_time": "2017-11-24T16:34:50.240218",
          "start_time": "2017-11-24T16:34:50.025515"
        },
        "colab": {
          "base_uri": "https://localhost:8080/",
          "height": 156
        },
        "id": "EHm39Pe_mvRp",
        "outputId": "1be44612-32bf-41e6-c67a-1e4cc2ab6ae2"
      },
      "outputs": [
        {
          "data": {
            "image/png": "[encoded data removed]",
            "text/plain": [
              "<Figure size 1500x1000 with 1 Axes>"
            ]
          },
          "metadata": {},
          "output_type": "display_data"
        }
      ],
      "source": [
        "# cria um grid com as imagens\n",
        "grid = torchvision.utils.make_grid(weights.view(-1, 1, 28, 28), normalize=True, pad_value=1.0, padding=1, nrow=10)\n",
        "\n",
        "plt.figure(figsize=(15, 10))\n",
        "plt.imshow(grid.numpy().transpose(1, 2, 0))\n",
        "plt.axis('off');"
      ]
    },
    {
      "cell_type": "markdown",
      "metadata": {
        "id": "odqHBFclmvRt"
      },
      "source": [
        "### Diagrama da regressão softmax com visualização dos pesos W"
      ]
    },
    {
      "cell_type": "markdown",
      "metadata": {
        "id": "UVKoDiM-mvRu"
      },
      "source": [
        "![alt text](https://raw.githubusercontent.com/vcasadei/images/master/RegressaoSoftmaxArgmaxNMIST.png)"
      ]
    },
    {
      "cell_type": "markdown",
      "metadata": {
        "id": "y0vTJyVbmvRv"
      },
      "source": [
        "# Atividades"
      ]
    },
    {
      "cell_type": "markdown",
      "metadata": {
        "id": "Rl-7WEDMmvRw"
      },
      "source": [
        "## Exercícios"
      ]
    },
    {
      "cell_type": "markdown",
      "metadata": {
        "id": "Vn4GzfSYmvR5"
      },
      "source": [
        "- 1) Insira código no laço do treinamento para que no final de cada época,\n",
        "     seja impresso: o número da época e a perda e a acurácia"
      ]
    },
    {
      "cell_type": "code",
      "execution_count": 20,
      "metadata": {},
      "outputs": [
        {
          "name": "stdout",
          "output_type": "stream",
          "text": [
            "Época: 1, Perda: 0.9826, Acurácia: 0.8190\n",
            "Época: 2, Perda: 0.9023, Acurácia: 0.8320\n",
            "Época: 3, Perda: 0.8400, Acurácia: 0.8450\n",
            "Época: 4, Perda: 0.7902, Acurácia: 0.8500\n",
            "Época: 5, Perda: 0.7492, Acurácia: 0.8580\n"
          ]
        }
      ],
      "source": [
        "losses = []\n",
        "zs = []\n",
        "\n",
        "for epoch in range(epochs):\n",
        "    # Transforma a entrada para uma dimensão\n",
        "    inputs = Variable(x_train.view(-1, 28 * 28))\n",
        "    # Predict da rede\n",
        "    outputs = model(inputs)\n",
        "    zs.append(outputs[1].detach().numpy())\n",
        "\n",
        "    # Calcula a perda\n",
        "    loss = criterion(outputs, Variable(y_train))\n",
        "\n",
        "    # Zero, backpropagation, ajusta parâmetros pelo gradiente descendente\n",
        "    optimizer.zero_grad()\n",
        "    loss.backward()\n",
        "    optimizer.step()\n",
        "\n",
        "    losses.append(loss.data)\n",
        "    _, predicts = torch.max(outputs, 1)\n",
        "\n",
        "    y_pred = predicts.data\n",
        "    accuracy = (y_pred.numpy() == y_train.numpy()).mean()\n",
        "\n",
        "    # Imprime o número da época, a perda e a acurácia\n",
        "    print(f\"Época: {epoch + 1}, Perda: {loss.item():.4f}, Acurácia: {accuracy:.4f}\")"
      ]
    },
    {
      "cell_type": "markdown",
      "metadata": {},
      "source": [
        "- 2) Insira código no laço do treinamento para visualização dos valores dos gradientes referentes à classe do dígito 4, no final de cada época."
      ]
    },
    {
      "cell_type": "code",
      "execution_count": 21,
      "metadata": {},
      "outputs": [
        {
          "name": "stdout",
          "output_type": "stream",
          "text": [
            "Época: 1, Perda: 0.7147, Acurácia: 0.8620\n"
          ]
        },
        {
          "data": {
            "image/png": "[encoded data removed]",
            "text/plain": [
              "<Figure size 640x480 with 2 Axes>"
            ]
          },
          "metadata": {},
          "output_type": "display_data"
        },
        {
          "name": "stdout",
          "output_type": "stream",
          "text": [
            "Época: 2, Perda: 0.6852, Acurácia: 0.8660\n"
          ]
        },
        {
          "data": {
            "image/png": "[encoded data removed]",
            "text/plain": [
              "<Figure size 640x480 with 2 Axes>"
            ]
          },
          "metadata": {},
          "output_type": "display_data"
        },
        {
          "name": "stdout",
          "output_type": "stream",
          "text": [
            "Época: 3, Perda: 0.6594, Acurácia: 0.8700\n"
          ]
        },
        {
          "data": {
            "image/png": "[encoded data removed]",
            "text/plain": [
              "<Figure size 640x480 with 2 Axes>"
            ]
          },
          "metadata": {},
          "output_type": "display_data"
        },
        {
          "name": "stdout",
          "output_type": "stream",
          "text": [
            "Época: 4, Perda: 0.6368, Acurácia: 0.8730\n"
          ]
        },
        {
          "data": {
            "image/png": "[encoded data removed]",
            "text/plain": [
              "<Figure size 640x480 with 2 Axes>"
            ]
          },
          "metadata": {},
          "output_type": "display_data"
        },
        {
          "name": "stdout",
          "output_type": "stream",
          "text": [
            "Época: 5, Perda: 0.6167, Acurácia: 0.8760\n"
          ]
        },
        {
          "data": {
            "image/png": "[encoded data removed]",
            "text/plain": [
              "<Figure size 640x480 with 2 Axes>"
            ]
          },
          "metadata": {},
          "output_type": "display_data"
        }
      ],
      "source": [
        "losses = []\n",
        "zs = []\n",
        "\n",
        "for epoch in range(epochs):\n",
        "    # Transforma a entrada para uma dimensão\n",
        "    inputs = Variable(x_train.view(-1, 28 * 28))\n",
        "    # Predict da rede\n",
        "    outputs = model(inputs)\n",
        "    zs.append(outputs[1].detach().numpy())\n",
        "\n",
        "    # Calcula a perda\n",
        "    loss = criterion(outputs, Variable(y_train))\n",
        "\n",
        "    # Zero, backpropagation, ajusta parâmetros pelo gradiente descendente\n",
        "    optimizer.zero_grad()\n",
        "    loss.backward()\n",
        "    optimizer.step()\n",
        "\n",
        "    losses.append(loss.data)\n",
        "    _, predicts = torch.max(outputs, 1)\n",
        "\n",
        "    y_pred = predicts.data\n",
        "    accuracy = (y_pred.numpy() == y_train.numpy()).mean()\n",
        "\n",
        "    # Imprime o número da época, a perda e a acurácia\n",
        "    print(f\"Época: {epoch + 1}, Perda: {loss.item():.4f}, Acurácia: {accuracy:.4f}\")\n",
        "\n",
        "    # Visualiza os gradientes referentes à classe do dígito 4\n",
        "    gradients_class_4 = model.weight.grad[4].view(28, 28).detach().numpy()\n",
        "    plt.imshow(gradients_class_4, cmap='gray')\n",
        "    plt.title(f\"Gradientes da Classe 4 - Época {epoch + 1}\")\n",
        "    plt.colorbar()\n",
        "    plt.show()"
      ]
    },
    {
      "cell_type": "markdown",
      "metadata": {
        "id": "8UjOANOOe4Es"
      },
      "source": [
        "<details>\n",
        "<summary>Mostrar Resultado</summary>\n",
        "\n",
        "```python\n",
        "from IPython import display\n",
        "import numpy\n",
        "a = 5\n",
        "losses = []\n",
        "zs = []\n",
        "fig = plt.figure(figsize=(18, 6))\n",
        "\n",
        "try:\n",
        "    for i in range(epochs):\n",
        "        # Transforma a entrada para uma dimensão\n",
        "        inputs = Variable(x_train.view(-1, 28 * 28))\n",
        "        # Predict da rede\n",
        "        outputs = model(inputs)\n",
        "        zs.append(outputs[1].detach().numpy())\n",
        "\n",
        "        # calcula a perda\n",
        "        loss = criterion(outputs, Variable(y_train))\n",
        "\n",
        "        # zero, backpropagation, ajusta parâmetros pelo gradiente descendente\n",
        "        optimizer.zero_grad()\n",
        "        loss.backward()\n",
        "        optimizer.step()\n",
        "\n",
        "        losses.append(loss.data)\n",
        "        weights_d = model.weight.data[4].numpy().reshape(28,28)\n",
        "        weights_g = model.weight.grad.data[4].numpy().reshape(28,28)\n",
        "        ww = np.concatenate((weights_d,weights_g),1)\n",
        "        plt.imshow(ww.reshape((28,28*2)),cmap = 'gray')\n",
        "        display.display(fig)\n",
        "        display.clear_output(wait=True)\n",
        "        input(i)\n",
        "        \n",
        "        _, predicts = torch.max(outputs, 1)\n",
        "\n",
        "        y_pred = predicts.data\n",
        "        accuracy = (y_pred.numpy() == y_train.numpy()).mean()\n",
        "        print('Accuracy:', accuracy)\n",
        "        print(\"epoca: \" + str(i + 1))\n",
        "        print(\"perda: \" + str(loss.data.detach().numpy()))\n",
        "except KeyboardInterrupt:\n",
        "    pass\n",
        "```\n",
        "\n",
        "</details>\n",
        "\n"
      ]
    },
    {
      "cell_type": "markdown",
      "metadata": {
        "heading_collapsed": true,
        "id": "WNYt_-zhmvR7"
      },
      "source": [
        "## Perguntas"
      ]
    },
    {
      "cell_type": "markdown",
      "metadata": {
        "hidden": true,
        "id": "joaXY_W3mvR9"
      },
      "source": [
        "1. Qual é o shape da matriz de entrada na rede?  \n",
        "r = O shape da matriz de entrada na rede é `(n_samples_train, 784)`, onde `n_samples_train` é o número de amostras de treinamento (1000 neste caso) e `784` corresponde ao número de atributos de entrada (28x28 pixels de cada imagem achatados em um vetor).  \n",
        "\n",
        "2. Qual é o shape da saída da rede?  \n",
        "r = O shape da saída da rede é `(n_samples_train, 10)`, onde `n_samples_train` é o número de amostras de treinamento (1000 neste caso) e `10` corresponde ao número de neurônios na camada de saída, representando as 10 classes possíveis (dígitos de 0 a 9).  \n",
        "\n",
        "3. Qual é o número total de parâmetros da rede, incluindo o bias?  \n",
        "r = O número total de parâmetros da rede, incluindo o bias, pode ser calculado como:\n",
        "\n",
        "- Pesos: \\( 784 \\times 10 = 7840 \\) (28x28 entradas para cada um dos 10 neurônios de saída)\n",
        "- Bias: \\( 10 \\) (um para cada neurônio de saída)\n",
        "\n",
        "**Total:** \\( 7840 + 10 = 7850 \\) parâmetros."
      ]
    },
    {
      "cell_type": "markdown",
      "metadata": {
        "id": "WzWdNQ6PmvR9"
      },
      "source": [
        "# Aprendizados\n"
      ]
    },
    {
      "cell_type": "markdown",
      "metadata": {},
      "source": [
        "1. **Regressão Softmax**:\n",
        "    - A regressão softmax é uma técnica eficaz para problemas de classificação multiclasse, como a classificação de dígitos manuscritos no dataset MNIST.\n",
        "\n",
        "2. **Pré-processamento de Dados**:\n",
        "    - A normalização dos dados de entrada (divisão por 255) é essencial para melhorar a estabilidade e a eficiência do treinamento.\n",
        "    - A redução do número de amostras pode ser útil para experimentos rápidos e para entender o comportamento do modelo.\n",
        "\n",
        "3. **Visualização de Dados**:\n",
        "    - Visualizar as imagens do dataset ajuda a compreender a natureza dos dados e a verificar se o carregamento foi realizado corretamente.\n",
        "    - A visualização dos pesos treinados permite interpretar a importância de cada pixel para cada classe.\n",
        "\n",
        "4. **Estrutura do Modelo**:\n",
        "    - A rede linear utilizada possui 784 entradas (28x28 pixels) e 10 saídas (uma para cada classe), com um total de 7850 parâmetros (incluindo bias).\n",
        "    - A simplicidade do modelo linear demonstra que mesmo arquiteturas simples podem alcançar bons resultados em problemas bem definidos.\n",
        "\n",
        "5. **Treinamento do Modelo**:\n",
        "    - O uso da função de perda `CrossEntropyLoss` é adequado para problemas de classificação multiclasse.\n",
        "    - O otimizador SGD com uma taxa de aprendizado de 0.5 foi utilizado para ajustar os pesos do modelo.\n",
        "    - A impressão da perda e da acurácia ao final de cada época permite monitorar o progresso do treinamento.\n",
        "\n",
        "6. **Visualização de Gradientes**:\n",
        "    - A análise dos gradientes durante o treinamento fornece insights sobre como os pesos estão sendo ajustados para cada classe.\n",
        "\n",
        "7. **Avaliação do Modelo**:\n",
        "    - A acurácia no conjunto de treinamento é uma métrica importante para avaliar o desempenho do modelo.\n",
        "    - A matriz de confusão ajuda a identificar padrões de erros e classes que podem estar sendo confundidas.\n",
        "\n",
        "8. **Interpretação dos Pesos**:\n",
        "    - Os pesos treinados para cada classe podem ser visualizados como imagens, permitindo interpretar quais regiões das imagens são mais relevantes para cada classe.\n",
        "\n",
        "9. **Limitações do Modelo**:\n",
        "    - Apesar de ser eficaz, um modelo linear pode não capturar relações complexas nos dados, o que pode ser melhorado com redes neurais mais profundas.\n",
        "\n",
        "10. **Ferramentas e Bibliotecas**:\n",
        "     - O uso de bibliotecas como PyTorch e torchvision facilita a implementação, treinamento e visualização de modelos de aprendizado profundo."
      ]
    }
  ],
  "metadata": {
    "accelerator": "GPU",
    "colab": {
      "name": "3.5-LogisticRegressionMNIST-Iterativo.ipynb",
      "provenance": []
    },
    "kernelspec": {
      "display_name": ".venv",
      "language": "python",
      "name": "python3"
    },
    "language_info": {
      "codemirror_mode": {
        "name": "ipython",
        "version": 3
      },
      "file_extension": ".py",
      "mimetype": "text/x-python",
      "name": "python",
      "nbconvert_exporter": "python",
      "pygments_lexer": "ipython3",
      "version": "3.13.3"
    }
  },
  "nbformat": 4,
  "nbformat_minor": 0
}
