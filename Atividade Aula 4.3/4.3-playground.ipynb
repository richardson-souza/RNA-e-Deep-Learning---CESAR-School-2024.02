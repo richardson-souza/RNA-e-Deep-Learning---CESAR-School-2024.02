{
 "cells": [
  {
   "cell_type": "markdown",
   "id": "02caaa80",
   "metadata": {},
   "source": [
    "## 🧪 Experimento com TensorFlow Playground - Dataset \"Spiral\""
   ]
  },
  {
   "cell_type": "markdown",
   "id": "e31f52f8",
   "metadata": {},
   "source": [
    "![Texto alternativo](captura.png)"
   ]
  },
  {
   "cell_type": "markdown",
   "id": "30b2ed20",
   "metadata": {},
   "source": [
    "### ⚙️ Configuração do modelo\n",
    "- **Features usadas**: `x1`, `x2`\n",
    "- **Dataset**: Spiral\n",
    "- **Número de camadas ocultas**: 3\n",
    "- **Neurônios por camada**: 8\n",
    "- **Função de ativação**: `Tanh`\n",
    "- **Learning rate**: `0.03`\n",
    "- **Regularização**: `L2`\n",
    "- **Taxa de regularização**: `0.001`\n",
    "- **Noise**: 0\n",
    "- **Test loss**: `0.076`\n",
    "- **Training loss**: `0.010`\n",
    "\n",
    "---\n",
    "\n",
    "### 📌 O que aprendi com esse experimento\n",
    "\n",
    "#### 🔹 Número de camadas e neurônios\n",
    "- Utilizar 3 camadas com 8 neurônios cada permitiu que o modelo tivesse **capacidade suficiente para capturar a complexidade do padrão espiral**.\n",
    "- Quando usei menos camadas ou menos neurônios, o modelo **subajustou** (não conseguiu aprender a estrutura do dado).\n",
    "- Um número excessivo de neurônios sem regularização pode levar ao **overfitting**, mas com controle adequado, melhora o desempenho.\n",
    "\n",
    "#### 🔹 Função de ativação\n",
    "- A função `Tanh` se mostrou mais eficaz para esse dataset do que `ReLU` ou `Sigmoid`, pois ela **modela curvas suaves e simétricas**, que são necessárias para separar corretamente as espirais entrelaçadas.\n",
    "\n",
    "#### 🔹 Learning rate\n",
    "- Uma taxa de aprendizado de `0.03` ofereceu **convergência estável e relativamente rápida**.\n",
    "- Taxas mais altas causaram instabilidade; taxas muito baixas tornaram o aprendizado muito lento.\n",
    "\n",
    "#### 🔹 Regularização\n",
    "- A regularização `L2` com fator `0.001` foi essencial para **controlar a complexidade do modelo**, reduzindo overfitting e melhorando a generalização (boa diferença entre Training e Test Loss).\n",
    "- Sem regularização, o modelo tendia a **memorizar o conjunto de treino**, piorando o desempenho em dados de teste.\n",
    "\n",
    "---\n",
    "\n",
    "### ✅ Conclusão\n",
    "\n",
    "Este exercício demonstrou na prática como o equilíbrio entre **profundidade da rede**, **capacidade expressiva**, **função de ativação adequada**, e **regularização** é crucial para resolver problemas com fronteiras de decisão complexas, como o padrão espiral. Pequenas variações nesses hiperparâmetros causam impactos significativos na **capacidade de generalização** do modelo.\n"
   ]
  },
  {
   "cell_type": "markdown",
   "id": "08a8a1a6",
   "metadata": {},
   "source": []
  }
 ],
 "metadata": {
  "language_info": {
   "name": "python"
  }
 },
 "nbformat": 4,
 "nbformat_minor": 5
}
